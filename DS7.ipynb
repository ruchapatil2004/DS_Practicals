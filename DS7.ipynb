{
 "cells": [
  {
   "cell_type": "code",
   "execution_count": 8,
   "id": "06b8c7e7-ed9b-4754-85c6-4d2b554002f7",
   "metadata": {},
   "outputs": [],
   "source": [
    "import nltk\n",
    "from nltk.tokenize import word_tokenize\n",
    "from nltk import pos_tag\n",
    "from nltk.corpus import stopwords\n",
    "from nltk.stem import PorterStemmer, WordNetLemmatizer\n",
    "from sklearn.feature_extraction.text import TfidfVectorizer\n",
    "import string"
   ]
  },
  {
   "cell_type": "code",
   "execution_count": 9,
   "id": "cedd09e9-a953-4e12-bbf7-2c48f2beef2a",
   "metadata": {},
   "outputs": [
    {
     "name": "stderr",
     "output_type": "stream",
     "text": [
      "[nltk_data] Downloading package punkt to\n",
      "[nltk_data]     C:\\Users\\hp\\AppData\\Roaming\\nltk_data...\n",
      "[nltk_data]   Package punkt is already up-to-date!\n",
      "[nltk_data] Downloading package stopwords to\n",
      "[nltk_data]     C:\\Users\\hp\\AppData\\Roaming\\nltk_data...\n",
      "[nltk_data]   Package stopwords is already up-to-date!\n",
      "[nltk_data] Downloading package wordnet to\n",
      "[nltk_data]     C:\\Users\\hp\\AppData\\Roaming\\nltk_data...\n",
      "[nltk_data]   Package wordnet is already up-to-date!\n",
      "[nltk_data] Downloading package averaged_perceptron_tagger to\n",
      "[nltk_data]     C:\\Users\\hp\\AppData\\Roaming\\nltk_data...\n",
      "[nltk_data]   Package averaged_perceptron_tagger is already up-to-\n",
      "[nltk_data]       date!\n"
     ]
    },
    {
     "data": {
      "text/plain": [
       "True"
      ]
     },
     "execution_count": 9,
     "metadata": {},
     "output_type": "execute_result"
    }
   ],
   "source": [
    "nltk.download('punkt')\n",
    "nltk.download('stopwords')\n",
    "nltk.download('wordnet')\n",
    "nltk.download('averaged_perceptron_tagger')"
   ]
  },
  {
   "cell_type": "code",
   "execution_count": 10,
   "id": "02dc2e32-f7d0-447c-aa8d-ddec2d29c148",
   "metadata": {},
   "outputs": [
    {
     "name": "stdout",
     "output_type": "stream",
     "text": [
      "Tokenization: ['Hello', 'this', 'is', 'the', 'most', 'famous', 'place', 'Agra', 'where', 'the', 'monument', 'Taj', 'Mahal', 'is', 'loacted']\n"
     ]
    }
   ],
   "source": [
    "sample_document = \"Hello this is the most famous place Agra where the monument Taj Mahal is loacted\"\n",
    "\n",
    "tokens = word_tokenize(sample_document)\n",
    "print(\"Tokenization:\", tokens)"
   ]
  },
  {
   "cell_type": "code",
   "execution_count": 11,
   "id": "b11d6b65-a040-4c0c-9761-d0b94e6b2338",
   "metadata": {},
   "outputs": [
    {
     "name": "stdout",
     "output_type": "stream",
     "text": [
      "\n",
      "POS Tagging: [('Hello', 'NNP'), ('this', 'DT'), ('is', 'VBZ'), ('the', 'DT'), ('most', 'RBS'), ('famous', 'JJ'), ('place', 'NN'), ('Agra', 'NNP'), ('where', 'WRB'), ('the', 'DT'), ('monument', 'NN'), ('Taj', 'NNP'), ('Mahal', 'NNP'), ('is', 'VBZ'), ('loacted', 'VBN')]\n"
     ]
    }
   ],
   "source": [
    "pos_tags = pos_tag(tokens)\n",
    "print(\"\\nPOS Tagging:\", pos_tags)"
   ]
  },
  {
   "cell_type": "code",
   "execution_count": 12,
   "id": "4d1f2cf1-6c43-43a0-a3ab-31e4cb4eb5d2",
   "metadata": {},
   "outputs": [
    {
     "name": "stdout",
     "output_type": "stream",
     "text": [
      "\n",
      "Stopwords Removal:  ['Hello', 'famous', 'place', 'Agra', 'monument', 'Taj', 'Mahal', 'loacted']\n"
     ]
    }
   ],
   "source": [
    "stop_words = set(stopwords.words('english'))\n",
    "filtered_tokens = [word for word in tokens if word.lower() not in stop_words]\n",
    "print(\"\\nStopwords Removal: \", filtered_tokens)"
   ]
  },
  {
   "cell_type": "code",
   "execution_count": 13,
   "id": "67700733-db06-4dff-89f8-48214f903126",
   "metadata": {},
   "outputs": [
    {
     "name": "stdout",
     "output_type": "stream",
     "text": [
      "\n",
      "Stemming: ['hello', 'famou', 'place', 'agra', 'monument', 'taj', 'mahal', 'loact']\n"
     ]
    }
   ],
   "source": [
    "stemmer = PorterStemmer()\n",
    "stemmed_tokens = [stemmer.stem(word) for word in filtered_tokens]\n",
    "print(\"\\nStemming:\", stemmed_tokens)"
   ]
  },
  {
   "cell_type": "code",
   "execution_count": 14,
   "id": "62881e9d-d01a-484a-91bc-a4f81c7c6910",
   "metadata": {},
   "outputs": [
    {
     "name": "stdout",
     "output_type": "stream",
     "text": [
      "\n",
      "Lemmatization:  ['Hello', 'famous', 'place', 'Agra', 'monument', 'Taj', 'Mahal', 'loacted']\n"
     ]
    }
   ],
   "source": [
    "lemmatizer = WordNetLemmatizer()\n",
    "lemmatized_tokens = [lemmatizer.lemmatize(word) for word in filtered_tokens]\n",
    "print(\"\\nLemmatization: \", lemmatized_tokens)"
   ]
  },
  {
   "cell_type": "code",
   "execution_count": 15,
   "id": "4fb6bcad-48ef-4e53-8eff-1115cfe2599c",
   "metadata": {},
   "outputs": [
    {
     "name": "stdout",
     "output_type": "stream",
     "text": [
      "\n",
      "TF-IDF Representation\n",
      "  (0, 4)\t0.22941573387056174\n",
      "  (0, 5)\t0.22941573387056174\n",
      "  (0, 9)\t0.22941573387056174\n",
      "  (0, 6)\t0.22941573387056174\n",
      "  (0, 12)\t0.22941573387056174\n",
      "  (0, 0)\t0.22941573387056174\n",
      "  (0, 8)\t0.22941573387056174\n",
      "  (0, 1)\t0.22941573387056174\n",
      "  (0, 7)\t0.22941573387056174\n",
      "  (0, 10)\t0.4588314677411235\n",
      "  (0, 3)\t0.4588314677411235\n",
      "  (0, 11)\t0.22941573387056174\n",
      "  (0, 2)\t0.22941573387056174\n"
     ]
    }
   ],
   "source": [
    "tfidf_vectorizer = TfidfVectorizer()\n",
    "tfidf_representation = tfidf_vectorizer.fit_transform([sample_document])\n",
    "print(\"\\nTF-IDF Representation\")\n",
    "print(tfidf_representation)"
   ]
  },
  {
   "cell_type": "code",
   "execution_count": null,
   "id": "129de760-b61c-46ae-b5d0-33ba1b1cd717",
   "metadata": {},
   "outputs": [],
   "source": []
  }
 ],
 "metadata": {
  "kernelspec": {
   "display_name": "Python 3 (ipykernel)",
   "language": "python",
   "name": "python3"
  },
  "language_info": {
   "codemirror_mode": {
    "name": "ipython",
    "version": 3
   },
   "file_extension": ".py",
   "mimetype": "text/x-python",
   "name": "python",
   "nbconvert_exporter": "python",
   "pygments_lexer": "ipython3",
   "version": "3.11.9"
  }
 },
 "nbformat": 4,
 "nbformat_minor": 5
}
